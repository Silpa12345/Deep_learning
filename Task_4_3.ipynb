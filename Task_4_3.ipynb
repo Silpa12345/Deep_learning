{
  "nbformat": 4,
  "nbformat_minor": 0,
  "metadata": {
    "colab": {
      "provenance": [],
      "include_colab_link": true
    },
    "kernelspec": {
      "name": "python3",
      "display_name": "Python 3"
    },
    "language_info": {
      "name": "python"
    }
  },
  "cells": [
    {
      "cell_type": "markdown",
      "metadata": {
        "id": "view-in-github",
        "colab_type": "text"
      },
      "source": [
        "<a href=\"https://colab.research.google.com/github/Silpa12345/Deep_learning/blob/main/Task_4_3.ipynb\" target=\"_parent\"><img src=\"https://colab.research.google.com/assets/colab-badge.svg\" alt=\"Open In Colab\"/></a>"
      ]
    },
    {
      "cell_type": "code",
      "execution_count": 2,
      "metadata": {
        "id": "KtDpAjvhGm7n",
        "colab": {
          "base_uri": "https://localhost:8080/"
        },
        "outputId": "94b8358a-71a8-4521-dc57-4f70eced12b1"
      },
      "outputs": [
        {
          "output_type": "stream",
          "name": "stdout",
          "text": [
            "tensor([[4., 0., 2., 1.],\n",
            "        [0., 1., 1., 2.],\n",
            "        [1., 0., 1., 0.]])\n",
            "tensor([[0., 0., 1.],\n",
            "        [0., 1., 0.],\n",
            "        [0., 1., 1.],\n",
            "        [1., 0., 0.]])\n",
            "tensor([[1., 0., 1.],\n",
            "        [1., 1., 0.],\n",
            "        [1., 1., 1.],\n",
            "        [0., 0., 1.]])\n",
            "tensor([[0., 0., 2.],\n",
            "        [3., 0., 0.],\n",
            "        [1., 5., 0.],\n",
            "        [0., 1., 0.]])\n"
          ]
        }
      ],
      "source": [
        "import torch\n",
        "\n",
        "\n",
        "x = torch.Tensor([\n",
        "    [4, 0, 2, 1],\n",
        "    [0, 1, 1, 2],\n",
        "    [1, 0, 1, 0]\n",
        "])\n",
        "\n",
        "w_q = torch.Tensor([\n",
        "    [0, 0, 1],\n",
        "    [0, 1, 0],\n",
        "    [0, 1, 1],\n",
        "    [1, 0, 0]\n",
        "])\n",
        "\n",
        "w_k = torch.Tensor([\n",
        "    [1, 0, 1],\n",
        "    [1, 1, 0],\n",
        "    [1, 1, 1],\n",
        "    [0, 0, 1]\n",
        "])\n",
        "\n",
        "w_v = torch.Tensor([\n",
        "    [0, 0, 2],\n",
        "    [3, 0, 0],\n",
        "    [1, 5, 0],\n",
        "    [0, 1, 0]\n",
        "])\n",
        "\n",
        "print(x)\n",
        "print(w_q)\n",
        "print(w_k)\n",
        "print(w_v)"
      ]
    },
    {
      "cell_type": "code",
      "source": [
        "# TODO: Derive queries, keys and values\n",
        "queries =torch.matmul(x, w_q)\n",
        "keys = torch.matmul(x, w_k)\n",
        "values = torch.matmul(x, w_v)\n",
        "\n",
        "print(queries)\n",
        "print(keys)\n",
        "print(values)"
      ],
      "metadata": {
        "id": "UWaCwN7XI77C",
        "colab": {
          "base_uri": "https://localhost:8080/"
        },
        "outputId": "094f8ffc-6968-4e9e-85d3-ae6b95f43cac"
      },
      "execution_count": 3,
      "outputs": [
        {
          "output_type": "stream",
          "name": "stdout",
          "text": [
            "tensor([[1., 2., 6.],\n",
            "        [2., 2., 1.],\n",
            "        [0., 1., 2.]])\n",
            "tensor([[6., 2., 7.],\n",
            "        [2., 2., 3.],\n",
            "        [2., 1., 2.]])\n",
            "tensor([[ 2., 11.,  8.],\n",
            "        [ 4.,  7.,  0.],\n",
            "        [ 1.,  5.,  2.]])\n"
          ]
        }
      ]
    },
    {
      "cell_type": "code",
      "source": [
        "# TODO: Calculate attention scores\n",
        "attn_scores = torch.matmul(queries, keys.T)\n",
        "attn_scores"
      ],
      "metadata": {
        "id": "GoXh3bWZJraR",
        "colab": {
          "base_uri": "https://localhost:8080/"
        },
        "outputId": "4584db7d-31bf-4ac6-fbfa-6d6f71d30f6d"
      },
      "execution_count": 4,
      "outputs": [
        {
          "output_type": "execute_result",
          "data": {
            "text/plain": [
              "tensor([[52., 24., 16.],\n",
              "        [23., 11.,  8.],\n",
              "        [16.,  8.,  5.]])"
            ]
          },
          "metadata": {},
          "execution_count": 4
        }
      ]
    },
    {
      "cell_type": "code",
      "source": [
        "# TODO: Calculate softmax\n",
        "from torch.nn.functional import softmax\n",
        "\n",
        "attn_scores_softmax = softmax(attn_scores, dim=1)\n",
        "attn_scores_softmax"
      ],
      "metadata": {
        "id": "sqF-HFdQJ4nB",
        "colab": {
          "base_uri": "https://localhost:8080/"
        },
        "outputId": "7c42e60b-58a2-4fe6-cdbb-e6582d05e5dd"
      },
      "execution_count": 5,
      "outputs": [
        {
          "output_type": "execute_result",
          "data": {
            "text/plain": [
              "tensor([[1.0000e+00, 6.9144e-13, 2.3195e-16],\n",
              "        [9.9999e-01, 6.1442e-06, 3.0590e-07],\n",
              "        [9.9965e-01, 3.3534e-04, 1.6696e-05]])"
            ]
          },
          "metadata": {},
          "execution_count": 5
        }
      ]
    },
    {
      "cell_type": "code",
      "source": [
        "# TODO: Multiply softmax with values\n",
        "weighted_values = torch.matmul(attn_scores_softmax, values)\n",
        "weighted_values"
      ],
      "metadata": {
        "id": "ijQ4RigYKEqh",
        "colab": {
          "base_uri": "https://localhost:8080/"
        },
        "outputId": "fba169bc-63de-4b15-e1a4-14c76ea83891"
      },
      "execution_count": 6,
      "outputs": [
        {
          "output_type": "execute_result",
          "data": {
            "text/plain": [
              "tensor([[ 2.0000, 11.0000,  8.0000],\n",
              "        [ 2.0000, 11.0000,  7.9999],\n",
              "        [ 2.0007, 10.9986,  7.9972]])"
            ]
          },
          "metadata": {},
          "execution_count": 6
        }
      ]
    },
    {
      "cell_type": "code",
      "source": [
        "# TODO: Sum weighted values\n",
        "outputs = weighted_values.sum(dim=1)\n",
        "outputs"
      ],
      "metadata": {
        "id": "xCcy4087KKNh",
        "colab": {
          "base_uri": "https://localhost:8080/"
        },
        "outputId": "aebcb7be-7f5d-4f3f-ddca-ed6142f16094"
      },
      "execution_count": 7,
      "outputs": [
        {
          "output_type": "execute_result",
          "data": {
            "text/plain": [
              "tensor([21.0000, 20.9999, 20.9964])"
            ]
          },
          "metadata": {},
          "execution_count": 7
        }
      ]
    }
  ]
}